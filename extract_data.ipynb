{
 "cells": [
  {
   "cell_type": "code",
   "execution_count": 51,
   "id": "initial_id",
   "metadata": {
    "collapsed": true,
    "ExecuteTime": {
     "end_time": "2023-12-11T19:25:05.885791700Z",
     "start_time": "2023-12-11T19:25:05.667681Z"
    }
   },
   "outputs": [],
   "source": [
    "import pandas as pd\n",
    "import numpy as np\n",
    "import re\n",
    "import os"
   ]
  },
  {
   "cell_type": "code",
   "execution_count": null,
   "outputs": [],
   "source": [
    "# Zdefiniowanie kolumn dla nowego DataFrame\n",
    "columns = ['ts', 'x', 'y', 'cell_no', 'mac', 'channel', 'frequency', 'rssi', 'essid']\n",
    "# Stworzenie nowego DataFrame ze zdefiniowanymi w liście 'columns' kolumnami\n",
    "df = pd.DataFrame(columns=columns)"
   ],
   "metadata": {
    "collapsed": false
   },
   "id": "267a46541be6bd41"
  },
  {
   "cell_type": "code",
   "execution_count": null,
   "outputs": [],
   "source": [
    "# Zdefiniowanie kolumn dla nowego DataFrame\n",
    "scan_columns = ['id', 'mac', 'channel', 'frequency', 'rssi', 'essid']"
   ],
   "metadata": {
    "collapsed": false
   },
   "id": "abe0b39527826168"
  },
  {
   "cell_type": "code",
   "execution_count": null,
   "outputs": [],
   "source": [
    "file_names = os.listdir('./pi8')"
   ],
   "metadata": {
    "collapsed": false
   },
   "id": "ac6239020f81ad12"
  },
  {
   "cell_type": "code",
   "execution_count": null,
   "outputs": [],
   "source": [
    "# koordynaty uzyskanych pomiarów poziomów sieci na czwartym piętrze gmachu\n",
    "coordinates = [{'x': -30, 'y': 790},\n",
    "               {'x': -30, 'y': 1140},\n",
    "               {'x': -30, 'y': 1460},\n",
    "               {'x': -30, 'y': 1760},\n",
    "               {'x': -30, 'y': 2100},\n",
    "               {'x': -220, 'y': 2100},\n",
    "               {'x': -220, 'y': 1760},\n",
    "               {'x': -220, 'y': 1460},\n",
    "               {'x': -220, 'y': 1140},\n",
    "               {'x': -220, 'y': 790},\n",
    "               {'x': -125, 'y': 790},\n",
    "               {'x': -125, 'y': 1140},\n",
    "               {'x': -125, 'y': 1460},\n",
    "               {'x': -125, 'y': 1760},\n",
    "               {'x': -125, 'y': 2100},\n",
    "               {'x': -125, 'y': 1930},\n",
    "               {'x': -125, 'y': 1610},\n",
    "               {'x': -125, 'y': 1290},\n",
    "               {'x': -125, 'y': 965}]"
   ],
   "metadata": {
    "collapsed": false
   },
   "id": "bb10a8e1ac48218"
  },
  {
   "cell_type": "code",
   "execution_count": 56,
   "outputs": [],
   "source": [
    "def convert_data(file_name, cell, x, y):\n",
    "    scan_df = pd.read_csv(f'./pi8/{file_name}', header=None, names=scan_columns)\n",
    "    scan_df.drop(columns=['id'], inplace=True)\n",
    "    \n",
    "    ts_pattern = re.compile(r'[0-9]{10}')\n",
    "    ts = re.findall(ts_pattern, file_name)[0]\n",
    "    scan_df.insert(0, 'ts', ts)\n",
    "    scan_df.insert(1, 'x', x)\n",
    "    scan_df.insert(2, 'y', y)\n",
    "    scan_df.insert(3, 'cell_no', cell)\n",
    "    return scan_df"
   ],
   "metadata": {
    "collapsed": false,
    "ExecuteTime": {
     "end_time": "2023-12-11T19:25:05.905518700Z",
     "start_time": "2023-12-11T19:25:05.752439900Z"
    }
   },
   "id": "e83bab08f552b2c9"
  },
  {
   "cell_type": "code",
   "execution_count": 57,
   "outputs": [
    {
     "name": "stderr",
     "output_type": "stream",
     "text": [
      "C:\\Users\\przem\\AppData\\Local\\Temp\\ipykernel_16852\\4281111177.py:5: FutureWarning: The behavior of DataFrame concatenation with empty or all-NA entries is deprecated. In a future version, this will no longer exclude empty or all-NA columns when determining the result dtypes. To retain the old behavior, exclude the relevant entries before the concat operation.\n",
      "  df = pd.concat([df, new_df], ignore_index=True)\n"
     ]
    }
   ],
   "source": [
    "for file_name in file_names:\n",
    "    file_pattern = re.compile(r'[0-9]{1,2}')\n",
    "    file_num = int(re.findall(file_pattern, file_name)[0])\n",
    "    new_df = convert_data(file_name, 3, coordinates[file_num]['x'], coordinates[file_num]['y'])\n",
    "    df = pd.concat([df, new_df], ignore_index=True)"
   ],
   "metadata": {
    "collapsed": false,
    "ExecuteTime": {
     "end_time": "2023-12-11T19:25:05.905518700Z",
     "start_time": "2023-12-11T19:25:05.766666800Z"
    }
   },
   "id": "901f3500effab8b2"
  },
  {
   "cell_type": "code",
   "execution_count": 58,
   "outputs": [],
   "source": [
    "df.to_csv('datasets\\\\data_cell_3.csv', index=False)"
   ],
   "metadata": {
    "collapsed": false,
    "ExecuteTime": {
     "end_time": "2023-12-11T19:25:05.919047500Z",
     "start_time": "2023-12-11T19:25:05.885791700Z"
    }
   },
   "id": "c69ae4910d0f0b7"
  },
  {
   "cell_type": "code",
   "execution_count": 59,
   "outputs": [],
   "source": [
    "df_01 = pd.read_csv('datasets\\\\a.csv', header=None, names=['ts', 'x', 'y', 'cell_no', 'mac', 'channel', 'frequency', 'rssi', 'essid'])"
   ],
   "metadata": {
    "collapsed": false,
    "ExecuteTime": {
     "end_time": "2023-12-11T19:25:05.973362600Z",
     "start_time": "2023-12-11T19:25:05.905518700Z"
    }
   },
   "id": "c139ede42650b807"
  },
  {
   "cell_type": "code",
   "execution_count": 60,
   "outputs": [
    {
     "data": {
      "text/plain": "        ts     x    y  cell_no                mac  channel  frequency  rssi  \\\n0    15:41  -970    0        1  24:81:3B:28:D1:01        1      2.412   -60   \n1    15:41  -970    0        2  BA:FB:E4:C7:71:76       11      2.462   -69   \n2    15:41  -970    0        3  B4:FB:E4:C7:71:76       11      2.462   -71   \n3    15:41  -970    0        4  24:81:3B:28:D1:00        1      2.412   -60   \n4    15:41  -970    0        5  24:81:3B:28:D1:02        1      2.412   -57   \n..     ...   ...  ...      ...                ...      ...        ...   ...   \n546  15:46 -1125  270       45  4C:ED:FB:D3:F5:88        1      2.412   -87   \n547  15:46 -1125  270       46  22:E8:29:E4:3B:46        1      2.412   -72   \n548  15:46 -1125  270       47  18:E8:29:E4:3B:46        1      2.412   -75   \n549  15:46 -1125  270       48  10:B3:D6:07:CE:60       11      2.462   -97   \n550  15:46 -1125  270       49  34:69:87:F3:D2:59       13      2.472   -88   \n\n              essid  \n0         pw.edu.pl  \n1    Techgeneration  \n2             WEiTI  \n3           eduroam  \n4       konferencja  \n..              ...  \n546             542  \n547             NaN  \n548           WEiTI  \n549         eduroam  \n550      CPE_F3D259  \n\n[551 rows x 9 columns]",
      "text/html": "<div>\n<style scoped>\n    .dataframe tbody tr th:only-of-type {\n        vertical-align: middle;\n    }\n\n    .dataframe tbody tr th {\n        vertical-align: top;\n    }\n\n    .dataframe thead th {\n        text-align: right;\n    }\n</style>\n<table border=\"1\" class=\"dataframe\">\n  <thead>\n    <tr style=\"text-align: right;\">\n      <th></th>\n      <th>ts</th>\n      <th>x</th>\n      <th>y</th>\n      <th>cell_no</th>\n      <th>mac</th>\n      <th>channel</th>\n      <th>frequency</th>\n      <th>rssi</th>\n      <th>essid</th>\n    </tr>\n  </thead>\n  <tbody>\n    <tr>\n      <th>0</th>\n      <td>15:41</td>\n      <td>-970</td>\n      <td>0</td>\n      <td>1</td>\n      <td>24:81:3B:28:D1:01</td>\n      <td>1</td>\n      <td>2.412</td>\n      <td>-60</td>\n      <td>pw.edu.pl</td>\n    </tr>\n    <tr>\n      <th>1</th>\n      <td>15:41</td>\n      <td>-970</td>\n      <td>0</td>\n      <td>2</td>\n      <td>BA:FB:E4:C7:71:76</td>\n      <td>11</td>\n      <td>2.462</td>\n      <td>-69</td>\n      <td>Techgeneration</td>\n    </tr>\n    <tr>\n      <th>2</th>\n      <td>15:41</td>\n      <td>-970</td>\n      <td>0</td>\n      <td>3</td>\n      <td>B4:FB:E4:C7:71:76</td>\n      <td>11</td>\n      <td>2.462</td>\n      <td>-71</td>\n      <td>WEiTI</td>\n    </tr>\n    <tr>\n      <th>3</th>\n      <td>15:41</td>\n      <td>-970</td>\n      <td>0</td>\n      <td>4</td>\n      <td>24:81:3B:28:D1:00</td>\n      <td>1</td>\n      <td>2.412</td>\n      <td>-60</td>\n      <td>eduroam</td>\n    </tr>\n    <tr>\n      <th>4</th>\n      <td>15:41</td>\n      <td>-970</td>\n      <td>0</td>\n      <td>5</td>\n      <td>24:81:3B:28:D1:02</td>\n      <td>1</td>\n      <td>2.412</td>\n      <td>-57</td>\n      <td>konferencja</td>\n    </tr>\n    <tr>\n      <th>...</th>\n      <td>...</td>\n      <td>...</td>\n      <td>...</td>\n      <td>...</td>\n      <td>...</td>\n      <td>...</td>\n      <td>...</td>\n      <td>...</td>\n      <td>...</td>\n    </tr>\n    <tr>\n      <th>546</th>\n      <td>15:46</td>\n      <td>-1125</td>\n      <td>270</td>\n      <td>45</td>\n      <td>4C:ED:FB:D3:F5:88</td>\n      <td>1</td>\n      <td>2.412</td>\n      <td>-87</td>\n      <td>542</td>\n    </tr>\n    <tr>\n      <th>547</th>\n      <td>15:46</td>\n      <td>-1125</td>\n      <td>270</td>\n      <td>46</td>\n      <td>22:E8:29:E4:3B:46</td>\n      <td>1</td>\n      <td>2.412</td>\n      <td>-72</td>\n      <td>NaN</td>\n    </tr>\n    <tr>\n      <th>548</th>\n      <td>15:46</td>\n      <td>-1125</td>\n      <td>270</td>\n      <td>47</td>\n      <td>18:E8:29:E4:3B:46</td>\n      <td>1</td>\n      <td>2.412</td>\n      <td>-75</td>\n      <td>WEiTI</td>\n    </tr>\n    <tr>\n      <th>549</th>\n      <td>15:46</td>\n      <td>-1125</td>\n      <td>270</td>\n      <td>48</td>\n      <td>10:B3:D6:07:CE:60</td>\n      <td>11</td>\n      <td>2.462</td>\n      <td>-97</td>\n      <td>eduroam</td>\n    </tr>\n    <tr>\n      <th>550</th>\n      <td>15:46</td>\n      <td>-1125</td>\n      <td>270</td>\n      <td>49</td>\n      <td>34:69:87:F3:D2:59</td>\n      <td>13</td>\n      <td>2.472</td>\n      <td>-88</td>\n      <td>CPE_F3D259</td>\n    </tr>\n  </tbody>\n</table>\n<p>551 rows × 9 columns</p>\n</div>"
     },
     "execution_count": 60,
     "metadata": {},
     "output_type": "execute_result"
    }
   ],
   "source": [
    "df_02 = pd.read_csv('datasets\\\\dane_zespol_2.csv')\n",
    "df_02.rename(columns={\"MAC\": \"mac\", \"ssid\": \"essid\"})"
   ],
   "metadata": {
    "collapsed": false,
    "ExecuteTime": {
     "end_time": "2023-12-11T19:25:06.043331200Z",
     "start_time": "2023-12-11T19:25:05.927060400Z"
    }
   },
   "id": "e304d7ba07686c0"
  },
  {
   "cell_type": "code",
   "execution_count": 61,
   "outputs": [],
   "source": [
    "df_04 = pd.read_csv('datasets\\\\wyniki-z4.csv')\n",
    "df_03 = pd.read_csv('datasets\\\\data_cell_3.csv')"
   ],
   "metadata": {
    "collapsed": false,
    "ExecuteTime": {
     "end_time": "2023-12-11T19:25:06.075344Z",
     "start_time": "2023-12-11T19:25:05.965347Z"
    }
   },
   "id": "cfbe88506a4ef283"
  },
  {
   "cell_type": "code",
   "execution_count": 62,
   "outputs": [],
   "source": [
    "df_07 = pd.read_csv('datasets\\\\pomiary_z7.csv')\n",
    "df_07.drop(columns=['meas_id', 'nr_pomiaru'], inplace=True)\n",
    "df_07.drop(df_07.columns[0], axis=1, inplace=True)\n",
    "df_07.rename(columns={\"MAC\": \"mac\", \"RSSI\": \"rssi\", \"SSID\": \"essid\"}, inplace=True)\n",
    "df_07['ts'] = np.NAN"
   ],
   "metadata": {
    "collapsed": false,
    "ExecuteTime": {
     "end_time": "2023-12-11T19:25:06.107162400Z",
     "start_time": "2023-12-11T19:25:05.992217300Z"
    }
   },
   "id": "d03818f39ff4c0d6"
  },
  {
   "cell_type": "code",
   "execution_count": 63,
   "outputs": [],
   "source": [
    "df_s1 = pd.read_csv('datasets\\\\students_set_21z.csv')\n",
    "df_s1['x'] = df_s1['x']*100\n",
    "df_s1['y'] = df_s1['y']*100\n",
    "df_s2 = pd.read_csv('datasets\\\\students_set_22z.csv')\n",
    "df_s2['x'] = df_s2['x']*100\n",
    "df_s2['y'] = df_s2['y']*100"
   ],
   "metadata": {
    "collapsed": false,
    "ExecuteTime": {
     "end_time": "2023-12-11T19:25:06.166339700Z",
     "start_time": "2023-12-11T19:25:06.035334300Z"
    }
   },
   "id": "cbdd648d62ea4ad0"
  },
  {
   "cell_type": "code",
   "execution_count": 64,
   "outputs": [],
   "source": [
    "df_06 = pd.read_csv(\"datasets\\\\new_data.csv\", header=None, names=['x', 'y', 'mac', 'essid', 'rssi', 'empty'])"
   ],
   "metadata": {
    "collapsed": false,
    "ExecuteTime": {
     "end_time": "2023-12-11T19:25:06.176363Z",
     "start_time": "2023-12-11T19:25:06.091149800Z"
    }
   },
   "id": "90cc3f4ddd42bb1c"
  },
  {
   "cell_type": "code",
   "execution_count": 65,
   "outputs": [],
   "source": [
    "df_06.drop(columns=['empty'], inplace=True)\n",
    "df_06['ts'] = np.NAN\n",
    "df_06['cell_no'] = 4\n",
    "df_06['channel'] = np.NAN\n",
    "df_06['frequency'] = np.NAN"
   ],
   "metadata": {
    "collapsed": false,
    "ExecuteTime": {
     "end_time": "2023-12-11T19:25:06.674390Z",
     "start_time": "2023-12-11T19:25:06.122586700Z"
    }
   },
   "id": "2bab2be8e6cf5779"
  },
  {
   "cell_type": "code",
   "execution_count": 66,
   "outputs": [
    {
     "data": {
      "text/plain": "        x    y                mac           essid  rssi  ts  cell_no  channel  \\\n0    -970  240  1E:E8:29:E4:3B:46  Techgeneration   -73 NaN        4      NaN   \n1    -970  240  60:32:B1:DE:7F:AA    TP-Link_7FAB   -76 NaN        4      NaN   \n2    -970  240  B0:48:7A:FF:07:08           fours   -81 NaN        4      NaN   \n3    -970  240  B0:48:7A:C0:1A:EE   NITICS_LOCSYS   -65 NaN        4      NaN   \n4    -970  240  BA:FB:E4:C7:71:76  Techgeneration   -62 NaN        4      NaN   \n...   ...  ...                ...             ...   ...  ..      ...      ...   \n1935 -538  530  BA:FB:E4:C4:AF:1A     Podyplomowe   -87 NaN        4      NaN   \n1936 -538  530  BE:FB:E4:C4:AF:1A  Techgeneration   -88 NaN        4      NaN   \n1937 -538  530  22:E8:29:E4:3B:46             NaN   -74 NaN        4      NaN   \n1938 -538  530  AC:1F:09:05:1D:F8    RAK7268_1DF8   -82 NaN        4      NaN   \n1939 -538  530  A8:F7:E0:01:D8:64      IOT_Lab430   -77 NaN        4      NaN   \n\n      frequency  \n0           NaN  \n1           NaN  \n2           NaN  \n3           NaN  \n4           NaN  \n...         ...  \n1935        NaN  \n1936        NaN  \n1937        NaN  \n1938        NaN  \n1939        NaN  \n\n[1940 rows x 9 columns]",
      "text/html": "<div>\n<style scoped>\n    .dataframe tbody tr th:only-of-type {\n        vertical-align: middle;\n    }\n\n    .dataframe tbody tr th {\n        vertical-align: top;\n    }\n\n    .dataframe thead th {\n        text-align: right;\n    }\n</style>\n<table border=\"1\" class=\"dataframe\">\n  <thead>\n    <tr style=\"text-align: right;\">\n      <th></th>\n      <th>x</th>\n      <th>y</th>\n      <th>mac</th>\n      <th>essid</th>\n      <th>rssi</th>\n      <th>ts</th>\n      <th>cell_no</th>\n      <th>channel</th>\n      <th>frequency</th>\n    </tr>\n  </thead>\n  <tbody>\n    <tr>\n      <th>0</th>\n      <td>-970</td>\n      <td>240</td>\n      <td>1E:E8:29:E4:3B:46</td>\n      <td>Techgeneration</td>\n      <td>-73</td>\n      <td>NaN</td>\n      <td>4</td>\n      <td>NaN</td>\n      <td>NaN</td>\n    </tr>\n    <tr>\n      <th>1</th>\n      <td>-970</td>\n      <td>240</td>\n      <td>60:32:B1:DE:7F:AA</td>\n      <td>TP-Link_7FAB</td>\n      <td>-76</td>\n      <td>NaN</td>\n      <td>4</td>\n      <td>NaN</td>\n      <td>NaN</td>\n    </tr>\n    <tr>\n      <th>2</th>\n      <td>-970</td>\n      <td>240</td>\n      <td>B0:48:7A:FF:07:08</td>\n      <td>fours</td>\n      <td>-81</td>\n      <td>NaN</td>\n      <td>4</td>\n      <td>NaN</td>\n      <td>NaN</td>\n    </tr>\n    <tr>\n      <th>3</th>\n      <td>-970</td>\n      <td>240</td>\n      <td>B0:48:7A:C0:1A:EE</td>\n      <td>NITICS_LOCSYS</td>\n      <td>-65</td>\n      <td>NaN</td>\n      <td>4</td>\n      <td>NaN</td>\n      <td>NaN</td>\n    </tr>\n    <tr>\n      <th>4</th>\n      <td>-970</td>\n      <td>240</td>\n      <td>BA:FB:E4:C7:71:76</td>\n      <td>Techgeneration</td>\n      <td>-62</td>\n      <td>NaN</td>\n      <td>4</td>\n      <td>NaN</td>\n      <td>NaN</td>\n    </tr>\n    <tr>\n      <th>...</th>\n      <td>...</td>\n      <td>...</td>\n      <td>...</td>\n      <td>...</td>\n      <td>...</td>\n      <td>...</td>\n      <td>...</td>\n      <td>...</td>\n      <td>...</td>\n    </tr>\n    <tr>\n      <th>1935</th>\n      <td>-538</td>\n      <td>530</td>\n      <td>BA:FB:E4:C4:AF:1A</td>\n      <td>Podyplomowe</td>\n      <td>-87</td>\n      <td>NaN</td>\n      <td>4</td>\n      <td>NaN</td>\n      <td>NaN</td>\n    </tr>\n    <tr>\n      <th>1936</th>\n      <td>-538</td>\n      <td>530</td>\n      <td>BE:FB:E4:C4:AF:1A</td>\n      <td>Techgeneration</td>\n      <td>-88</td>\n      <td>NaN</td>\n      <td>4</td>\n      <td>NaN</td>\n      <td>NaN</td>\n    </tr>\n    <tr>\n      <th>1937</th>\n      <td>-538</td>\n      <td>530</td>\n      <td>22:E8:29:E4:3B:46</td>\n      <td>NaN</td>\n      <td>-74</td>\n      <td>NaN</td>\n      <td>4</td>\n      <td>NaN</td>\n      <td>NaN</td>\n    </tr>\n    <tr>\n      <th>1938</th>\n      <td>-538</td>\n      <td>530</td>\n      <td>AC:1F:09:05:1D:F8</td>\n      <td>RAK7268_1DF8</td>\n      <td>-82</td>\n      <td>NaN</td>\n      <td>4</td>\n      <td>NaN</td>\n      <td>NaN</td>\n    </tr>\n    <tr>\n      <th>1939</th>\n      <td>-538</td>\n      <td>530</td>\n      <td>A8:F7:E0:01:D8:64</td>\n      <td>IOT_Lab430</td>\n      <td>-77</td>\n      <td>NaN</td>\n      <td>4</td>\n      <td>NaN</td>\n      <td>NaN</td>\n    </tr>\n  </tbody>\n</table>\n<p>1940 rows × 9 columns</p>\n</div>"
     },
     "execution_count": 66,
     "metadata": {},
     "output_type": "execute_result"
    }
   ],
   "source": [
    "df_06"
   ],
   "metadata": {
    "collapsed": false,
    "ExecuteTime": {
     "end_time": "2023-12-11T19:25:06.730402600Z",
     "start_time": "2023-12-11T19:25:06.142328Z"
    }
   },
   "id": "357893968aea696f"
  },
  {
   "cell_type": "code",
   "execution_count": 67,
   "outputs": [],
   "source": [
    "out_df = pd.concat([df_03, df_01, df_02, df_04, df_07, df_s1, df_s2, df_06], ignore_index=True)\n",
    "out_df.to_csv('out_df.csv', index=False)"
   ],
   "metadata": {
    "collapsed": false,
    "ExecuteTime": {
     "end_time": "2023-12-11T19:25:06.861536800Z",
     "start_time": "2023-12-11T19:25:06.168346200Z"
    }
   },
   "id": "6f019c28e599cff1"
  }
 ],
 "metadata": {
  "kernelspec": {
   "display_name": "Python 3",
   "language": "python",
   "name": "python3"
  },
  "language_info": {
   "codemirror_mode": {
    "name": "ipython",
    "version": 2
   },
   "file_extension": ".py",
   "mimetype": "text/x-python",
   "name": "python",
   "nbconvert_exporter": "python",
   "pygments_lexer": "ipython2",
   "version": "2.7.6"
  }
 },
 "nbformat": 4,
 "nbformat_minor": 5
}
